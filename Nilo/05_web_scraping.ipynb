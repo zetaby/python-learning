{
 "cells": [
  {
   "cell_type": "code",
   "execution_count": 2,
   "metadata": {
    "collapsed": false,
    "deletable": true,
    "editable": true
   },
   "outputs": [
    {
     "name": "stdout",
     "output_type": "stream",
     "text": [
      "\n"
     ]
    }
   ],
   "source": [
    "from bs4 import BeautifulSoup\n",
    "import requests"
   ]
  },
  {
   "cell_type": "markdown",
   "metadata": {
    "deletable": true,
    "editable": true
   },
   "source": [
    "# Beautiful soup on test data\n",
    "\n",
    "Here, we create some simple HTML that include some frequently used tags. \n",
    "Note, however, that we have also left one paragraph tag unclosed. "
   ]
  },
  {
   "cell_type": "code",
   "execution_count": 3,
   "metadata": {
    "collapsed": true,
    "deletable": true,
    "editable": true
   },
   "outputs": [],
   "source": [
    "source = \"\"\"\n",
    "<!DOCTYPE html>  \n",
    "<html>  \n",
    "  <head>\n",
    "    <title>Scraping</title>\n",
    "  </head>\n",
    "  <body class=\"col-sm-12\">\n",
    "    <h1>section1</h1>\n",
    "    <p>paragraph1</p>\n",
    "    <p>paragraph2</p>\n",
    "    <div class=\"col-sm-2\">\n",
    "      <h2>section2</h2>\n",
    "      <p>paragraph3</p>\n",
    "      <p>unclosed\n",
    "    </div>\n",
    "  </body>\n",
    "</html>  \n",
    "\"\"\"\n",
    "\n",
    "soup = BeautifulSoup(source, \"html.parser\")"
   ]
  },
  {
   "cell_type": "markdown",
   "metadata": {
    "deletable": true,
    "editable": true
   },
   "source": [
    "Once the soup object has been created successfully, we can execute a number of queries on the DOM. \n",
    "First we request all data from the `head` tag. \n",
    "Note that while it looks like a list of strings was returned, actually, a `bs4.element.Tag` type is returned. \n",
    "These examples expore how to extract tags, the text from tags, how to filter queries based on \n",
    "attributes, how to retreive attributes from a returned query, and how the BeautifulSoup engine \n",
    "is tolerant of unclosed tags. "
   ]
  },
  {
   "cell_type": "code",
   "execution_count": 9,
   "metadata": {
    "collapsed": false,
    "deletable": true,
    "editable": true
   },
   "outputs": [
    {
     "name": "stdout",
     "output_type": "stream",
     "text": [
      "Head:\n",
      " [<head>\\n<title>Scraping</title>\\n</head>]\n",
      "\n",
      "Type of head:\n",
      " [<class 'bs4.element.Tag'>]\n",
      "\n",
      "Title tag:\n",
      " <title>Scraping</title>\n",
      "\n",
      "Title text:\n",
      " Scraping\n",
      "\n",
      "Div with class=col-sm-2:\n",
      " [<div class=\"col-sm-2\">\\n<h2>section2</h2>\\n<p>paragraph3</p>\\n<p>unclosed\\n    </p></div>]\n",
      "\n",
      "Class of first div:\n",
      " [u'col-sm-2']\n",
      "\n",
      "All paragraphs:\n",
      " [<p>paragraph1</p>, <p>paragraph2</p>, <p>paragraph3</p>, <p>unclosed\\n    </p>]\n"
     ]
    }
   ],
   "source": [
    "print 'Head:'\n",
    "print '', soup.find_all(\"head\")\n",
    "# [<head>\\n<title>Scraping</title>\\n</head>]\n",
    "\n",
    "print '\\nType of head:'\n",
    "print '', map(type, soup.find_all(\"head\"))\n",
    "# [<class 'bs4.element.Tag'>]\n",
    "\n",
    "print '\\nTitle tag:'\n",
    "print '', soup.find(\"title\")\n",
    "# <title>Scraping</title>\n",
    "\n",
    "print '\\nTitle text:'\n",
    "print '', soup.find(\"title\").text\n",
    "# Scraping\n",
    "\n",
    "divs = soup.find_all(\"div\", attrs={\"class\": \"col-sm-2\"})\n",
    "print '\\nDiv with class=col-sm-2:'\n",
    "print '', divs\n",
    "# [<div class=\"col-sm-2\">....</div>]\n",
    "\n",
    "print '\\nClass of first div:'\n",
    "print '', divs[0].attrs['class']\n",
    "# [u'col-sm-2']\n",
    "\n",
    "print '\\nAll paragraphs:'\n",
    "print '', soup.find_all(\"p\")\n",
    "# [<p>paragraph1</p>, \n",
    "#  <p>paragraph2</p>, \n",
    "#  <p>paragraph3</p>, \n",
    "#  <p>unclosed\\n    </p>]"
   ]
  },
  {
   "cell_type": "markdown",
   "metadata": {
    "deletable": true,
    "editable": true
   },
   "source": [
    "# Beautilful soup on real data \n",
    "\n",
    "In this example I will show how you can use BeautifulSoup to retreive information from live web pages. \n",
    "We make use of The Guardian newspaper, and retreive the HTML from an arbitrary article. \n",
    "We then create the BeautifulSoup object, and query the links that were discovered in the DOM. \n",
    "Since a large number are returned, we then apply attribute filters that let us reduce significantly \n",
    "the number of returned links. \n",
    "I selected the filters selected for this example in order to focus on the names in the paper. \n",
    "The parameterisation of the attributes was discovered by using the `inspect` functionality of Google Chrome"
   ]
  },
  {
   "cell_type": "code",
   "execution_count": 10,
   "metadata": {
    "collapsed": false,
    "deletable": true,
    "editable": true
   },
   "outputs": [],
   "source": [
    "url = 'https://www.theguardian.com/technology/2017/jan/31/amazon-expedia-microsoft-support-washington-action-against-donald-trump-travel-ban'\n",
    "req = requests.get(url)\n",
    "source = req.text\n",
    "soup = BeautifulSoup(source, 'html.parser')"
   ]
  },
  {
   "cell_type": "code",
   "execution_count": 11,
   "metadata": {
    "collapsed": false,
    "deletable": true,
    "editable": true
   },
   "outputs": [
    {
     "name": "stdout",
     "output_type": "stream",
     "text": [
      "[<a class=\"u-h skip\" data-link-name=\"skip : main content\" href=\"#maincontent\">Skip to main content</a>, <a aria-haspopup=\"true\" class=\"brand-bar__item--action popup__toggle\" data-link-name=\"User profile\" data-test-id=\"sign-in-link\" data-toggle=\"popup--profile\" data-toggle-signed-in=\"true\" href=\"https://profile.theguardian.com/signin?INTCMP=DOTCOM_HEADER_SIGNIN\">\\n<span class=\"inline-profile-36 inline-icon rounded-icon control__icon-wrapper\">\\n<svg class=\"rounded-icon__svg control__icon-wrapper__svg inline-profile-36__svg inline-icon__svg\" height=\"18\" viewbox=\"0 0 18 18\" width=\"18\">\\n<path d=\"M9 7.3c1.6 0 3.4-1.8 3.4-3.9S11.1 0 9 0 5.6 1.3 5.6 3.4s2 3.9 3.4 3.9zm5.9 3.4l-.9-.8c-1.7-.6-3.1-.9-5-.9s-3.3.3-5 .9l-.9.9L1 17.2l.9.8h14.3l.9-.9-2.2-6.4z\"></path>\\n</svg>\\n</span>\\n<span class=\"js-profile-info control__info\" data-test-id=\"sign-in-name\">sign in</span>\\n</a>, <a class=\"brand-bar__item--action js-comment-activity u-h\" data-link-name=\"Comment activity\">Comment activity</a>, <a class=\"brand-bar__item--action\" data-link-name=\"Edit profile\" href=\"https://profile.theguardian.com/public/edit\">Edit profile</a>, <a class=\"brand-bar__item--action\" data-link-name=\"Email preferences\" href=\"https://profile.theguardian.com/email-prefs\">Email preferences</a>, <a class=\"brand-bar__item--action\" data-link-name=\"Change password\" href=\"https://profile.theguardian.com/password/change\">Change password</a>, <a class=\"brand-bar__item--action\" data-link-name=\"Sign out\" href=\"https://profile.theguardian.com/signout\">Sign out</a>, <a class=\"brand-bar__item--action brand-bar__item--split--first js-become-member\" data-link-name=\"Register link\" href=\"https://membership.theguardian.com/supporter?countryGroup=uk&amp;INTCMP=DOTCOM_HEADER_BECOMEMEMBER_UK\">\\n<span class=\"control__info js-control-info control__info--supporting\">become a supporter</span>\\n</a>, <a class=\"brand-bar__item--action brand-bar__item--split--last js-subscribe\" data-link-name=\"uk : topNav : subscribe\" href=\"https://subscribe.theguardian.com/?INTCMP=NGW_HEADER_UK_GU_SUBSCRIBE\">\\n<span class=\"control__info js-control-info\">subscribe</span>\\n</a>, <a aria-haspopup=\"true\" class=\"brand-bar__item--action popup__toggle js-search-toggle\" data-is-ajax=\"\" data-link-name=\"Search icon\" data-toggle=\"popup--search\" href=\"https://www.google.co.uk/advanced_search?q=site:www.theguardian.com\">\\n<span class=\"inline-search-36 inline-icon rounded-icon control__icon-wrapper\">\\n<svg class=\"rounded-icon__svg control__icon-wrapper__svg inline-search-36__svg inline-icon__svg\" height=\"18\" viewbox=\"0 0 18 18\" width=\"18\">\\n<path d=\"M6.5 1.6c2.7 0 4.9 2.2 4.9 4.9s-2.2 4.9-4.9 4.9-4.9-2.2-4.9-4.9 2.2-4.9 4.9-4.9m0-1.6C2.9 0 0 2.9 0 6.5S2.9 13 6.5 13 13 10.1 13 6.5 10.1 0 6.5 0zm6.6 11.5l4.9 4.9-1.6 1.6-4.9-4.9v-.8l.8-.8h.8z\"></path>\\n</svg>\\n</span>\\n<span class=\"control__info\">search</span>\\n</a>, <a class=\"brand-bar__item--action\" data-link-name=\"uk : topNav : jobs\" href=\"https://jobs.theguardian.com/?INTCMP=NGW_TOPNAV_UK_GU_JOBS\">jobs</a>, <a class=\"brand-bar__item--action\" data-link-name=\"uk : topNav : soulmates\" href=\"https://soulmates.theguardian.com/?INTCMP=NGW_TOPNAV_UK_GU_SOULMATES\">dating</a>, <a aria-controls=\"guardian-services-top-menu\" aria-haspopup=\"true\" class=\"brand-bar__item--action popup__toggle\" data-link-name=\"topNav : more\" data-toggle=\"top-bar__popup--more\">\\n<span class=\"rounded-icon control__icon-wrapper\">\\n<!--[if (gt IE 8)&(IEMobile)]><!-->\\n<span class=\"inline-ellipsis-36 inline-icon \">\\n<svg class=\"inline-ellipsis-36__svg inline-icon__svg\" fill=\"#fff\" height=\"18\" viewbox=\"0 0 24 18\" width=\"24\">\\n<circle cx=\"3\" cy=\"10\" r=\"3\"></circle>\\n<circle cx=\"12\" cy=\"10\" r=\"3\"></circle>\\n<circle cx=\"21\" cy=\"10\" r=\"3\"></circle>\\n</svg>\\n</span>\\n<!--<![endif]-->\\n</span>\\n<span class=\"control__info\" data-test-id=\"sign-in-name\">more</span>\\n</a>, <a class=\"brand-bar__item--action\" data-link-name=\"uk : topNav : jobs\" href=\"https://jobs.theguardian.com/?INTCMP=NGW_TOPNAV_UK_GU_JOBS\">jobs</a>, <a class=\"brand-bar__item--action\" data-link-name=\"uk : topNav : soulmates\" href=\"https://soulmates.theguardian.com/?INTCMP=NGW_TOPNAV_UK_GU_SOULMATES\">dating</a>, <a class=\"brand-bar__item--action\" data-link-name=\"uk : topNav : masterclasses\" href=\"https://www.theguardian.com/guardian-masterclasses?INTCMP=NGW_TOPNAV_UK_GU_MASTERCLASSES\">masterclasses</a>, <a class=\"brand-bar__item--action\" data-link-name=\"uk : topNav : courses\" href=\"https://courses.theguardian.com?INTCMP=NGW_TOPNAV_UK_GU_COURSES\">courses</a>, <a class=\"brand-bar__item--action\" data-link-name=\"uk : topNav : holidays\" href=\"https://holidays.theguardian.com/?utm_source=theguardian&amp;utm_medium=guardian-links&amp;utm_campaign=topnav&amp;INTCMP=topnav\">holidays</a>, <a class=\"brand-bar__item--action\" data-link-name=\"uk : topNav : membership\" href=\"https://membership.theguardian.com/?INTCMP=NGW_TOPNAV_UK_GU_MEMBERSHIP\">membership</a>, <a class=\"brand-bar__item--action\" data-link-name=\"uk : topNav : subscribe\" href=\"https://subscribe.theguardian.com/uk?INTCMP=NGW_TOPNAV_UK_GU_SUBSCRIBE\">subscribe</a>, <a class=\"brand-bar__item--action brand-bar__item--inline-action\" data-edition=\"US\" data-link-name=\"switch to US edition\" href=\"https://www.theguardian.com/preference/edition/us\" title=\"Switch to the US edition\">\\n<span class=\"u-h\">switch to the </span> US <span class=\"u-h\"> edition</span>\\n</a>, <a class=\"brand-bar__item--action brand-bar__item--inline-action\" data-edition=\"AU\" data-link-name=\"switch to AU edition\" href=\"https://www.theguardian.com/preference/edition/au\" title=\"Switch to the AU edition\">\\n<span class=\"u-h\">switch to the </span> AU <span class=\"u-h\"> edition</span>\\n</a>, <a class=\"brand-bar__item--action brand-bar__item--inline-action\" data-edition=\"INT\" data-link-name=\"switch to INT edition\" href=\"https://www.theguardian.com/preference/edition/int\" title=\"Switch to the INT edition\">\\n<span class=\"u-h\">switch to the </span> INT <span class=\"u-h\"> edition</span>\\n</a>, <a aria-controls=\"guardian-edition-menu\" aria-haspopup=\"true\" class=\"brand-bar__item--action popup__toggle\" data-link-name=\"topNav : edition\" data-toggle=\"top-bar__popup--edition\">\\nUK edition\\n</a>, <a class=\"brand-bar__item--action\" data-edition=\"US\" data-link-name=\"switch to US edition\" href=\"https://www.theguardian.com/preference/edition/us\" title=\"Switch to the US edition\">\\n<span class=\"u-h\">switch to the </span>\\n<span class=\"brand-bar__edition-name\">US edition</span>\\n</a>, <a class=\"brand-bar__item--action\" data-edition=\"AU\" data-link-name=\"switch to AU edition\" href=\"https://www.theguardian.com/preference/edition/au\" title=\"Switch to the AU edition\">\\n<span class=\"u-h\">switch to the </span>\\n<span class=\"brand-bar__edition-name\">Australia edition</span>\\n</a>, <a class=\"brand-bar__item--action\" data-edition=\"INT\" data-link-name=\"switch to INT edition\" href=\"https://www.theguardian.com/preference/edition/int\" title=\"Switch to the INT edition\">\\n<span class=\"u-h\">switch to the </span>\\n<span class=\"brand-bar__edition-name\">International</span>\\n</a>, <a class=\"logo-wrapper\" data-component=\"logo\" data-link-name=\"site logo\" href=\"https://www.theguardian.com/uk\" id=\"logo\">\\n<span class=\"u-h\">The Guardian</span>\\n<!--[if (gt IE 8)|(IEMobile)]><!-->\\n<span class=\"inline-guardian-logo-320 inline-logo \">\\n<svg class=\"inline-guardian-logo-320__svg inline-logo__svg\" height=\"60\" viewbox=\"0 0 320 60\" width=\"320\">\\n<path d=\"M284 45h16v-3l-3-1.5v-20c1.2-.9 2.8-1.1 4.3-1.1 2.8 0 3.7.9 3.7 4.1v17l-3 1.5v3h16v-3l-3-1.5v-19c0-5.7-2.1-8.3-7.1-8.3-4.1 0-8.1 1.5-10.8 4V13h-1l-12.4 2.2v2.7l3.3 1.6v21l-3 1.5v3zM245.3.4c-3 0-5.4 2.4-5.4 5.5 0 3 2.4 5.4 5.4 5.4 2.9 0 5.4-2.4 5.4-5.4-.1-3.1-2.5-5.5-5.4-5.5zM237 15.1v2.8l3 1.6v20.9l-3 1.5V45h16v-3.1l-3-1.5V13.1h-1l-12 2zM223 39c-.7.6-1.7 1.1-3.2 1.1-4 0-5.9-3.3-5.9-10.9 0-8.7 2.4-11.6 5.6-11.6 1.8 0 2.8.6 3.5 1.4v20zm0-24.4c-1.2-.9-3.3-1.4-5-1.4-7.4 0-14.5 4.4-14.5 16.8 0 11.9 7.1 15.7 11.8 15.7 3.8 0 6.4-1.7 7.6-3.4h.3v3.3h.9l11.9-1.4v-2.3l-3-1.8V.6h-1l-12.6 2v2.8l3.6 1.5v7.7zM181 18l3 1.5v20.9l-3 1.5V45h17v-3.1l-4-1.5V24.1c1.8-1.4 4.1-1.9 6.8-1.9.9 0 1.6.2 2.2.3v-9c-.3-.1-.7-.2-1.2-.2-3.3 0-6 2.2-7.8 6.2V13h-1l-12 2v3zm-19.3-.8c3.9 0 5.3 2 5.3 5.9v3.5l-6.1 1.1c-5.9 1.1-10.4 2.9-10.4 9.3 0 5.1 3.5 8.7 8.3 8.7 3.8 0 7.4-1.7 8.7-4.4h.3c.5 3.3 3.3 4.4 6.4 4.4 2.4 0 4.8-.6 5.7-1.6v-2l-2.9-1.5v-18c0-7-5.2-9.4-13.3-9.4-5.3 0-8.6 1.3-11.4 2.6v7.8h4.7l2-6c1.1-.4 2.3-.4 2.7-.4zm2.3 22.9c-1.9 0-4-1.1-4-4.6 0-2.4 2.4-4.7 4.8-5l2.2-.5v8.5s-1.9 1.6-3 1.6zm100.7-22.9c3.9 0 5.3 2 5.3 5.9v3.5l-6.1 1.1c-5.9 1.1-10.4 2.9-10.4 9.3 0 5.1 3.5 8.7 8.3 8.7 3.8 0 7.4-1.7 8.7-4.4h.3c.5 3.3 3.3 4.4 6.4 4.4 2.4 0 4.8-.6 5.7-1.6v-2l-2.9-1.5v-18c0-7-5.2-9.4-13.3-9.4-5.3 0-8.6 1.3-11.4 2.6v7.8h4.7l2-6c1.1-.4 2.3-.4 2.7-.4zm2.3 22.9c-1.9 0-4-1.1-4-4.6 0-2.4 2.4-4.7 4.8-5l2.2-.5v8.5s-1.9 1.6-3 1.6zm-138.7 5.6c.4 0 .9 0 1.3-.1 3.5-.3 6.7-2 8.4-4.2v4.1l12-1.5v-2l-3-2V13h-1l-12 2.3V18l4 1.7V38c-1.1.8-2.4 1.3-4.2 1.3-2.5 0-4.8-.8-4.8-4.3V13h-1l-12 2.5v2.6l4 1.6V36c0 5.4 2.2 9.7 8.3 9.7zM96 38c-1.2 0-2.5-.8-2.5-1.9 0-.8.6-1.7 1.4-2.3 1.6.5 3 .6 5 .6 7.8 0 13.2-3.7 13.2-10.4 0-3-1.3-4.6-3.2-6.4L115 19v-6l-8.2 1.6c-1.9-.7-4.5-1.6-7-1.6-7.8 0-13.2 4.1-13.2 10.8 0 4.1 2 7.1 5 8.8l.2.2c-1.7 1.2-5.3 4-5.3 7.2 0 2.4 1.5 4.8 4.8 5.5-3.4.8-7.3 2.5-7.3 6.5 0 4.1 5.9 8 15.5 8 11.8 0 16.5-5.7 16.5-13 0-6.1-2.8-9-9.5-9H96zm7.5-14c0 5.7-1.3 6.5-3.5 6.5s-4-.8-4-6.5c0-5.8 1.8-7.5 4-7.5s3.5 2 3.5 7.5zM92 50.9c.1-1.5 1.1-3.4 3.7-3.6h8.6c2.5 0 3.7 2 3.7 3.6 0 3.2-2 4.4-8.3 4.4-5.5 0-7.8-2.2-7.7-4.4z\" fill=\"#fff\"></path>\\n<path d=\"M83 30c0-13-5.1-16.9-13-16.9-9 0-15 6.2-15 16.4 0 10.5 5.5 16.2 15.8 16.2 5.6 0 9.7-2.7 11.2-4.7v-3c-2.1.7-3.9 1.2-7.7 1.2-5.6 0-9.3-3.2-9.3-9.2h18zM69.9 16.6c2.5 0 3.8 1.8 3.8 9.6l-8.4.7c.1-7.9 1.8-10.3 4.6-10.3zM37 45v-3l-3-1.5V21c1.2-.9 3.2-1.7 4.8-1.7 2.8 0 4.3 1.6 4.2 4.2v17L40 42v3h16v-3l-3-1.5v-19c0-5.7-3.3-8.3-7.7-8.3-4.1 0-8.6 1.3-11.3 3.8V0h-1L21 2v3l4 1.5v34L22 42v3h15zM4 36.4c0 5.7 2.8 9.3 8.9 9.3 3.1 0 6.2-.8 8.1-2.3v-3.8c-.8.3-1.9.5-2.9.5-2.9 0-4.1-1.6-4.1-4.6V19h7v-5h-7V6.5L4 8v6l-4 1v4h4v17.4z\" fill=\"#AADCE6\"></path>\\n</svg>\\n</span>\\n<!--<![endif]-->\\n<!--[if (lt IE 9)&(!IEMobile)]>\\n                                <span class=\"inline-logo inline-guardian-logo-320\"></span>\\n                            <![endif]-->\\n<object class=\"logo-tagline hide-on-mobile hide-on-slim-header\">\\n<a class=\"logo-tagline__link\" data-link-name=\"website of the year\" href=\"/culture/2016/mar/22/the-guardian-named-website-of-the-year-at-press-awards\">website of the year</a>\\n</object>\\n</a>, <a class=\"logo-tagline__link\" data-link-name=\"website of the year\" href=\"/culture/2016/mar/22/the-guardian-named-website-of-the-year-at-press-awards\">website of the year</a>, <a class=\"signposting__action\" data-link-name=\"nav : signposting : home\" href=\"https://www.theguardian.com/uk\">home</a>, <a class=\"signposting__action\" data-link-name=\"nav : signposting : tech\" href=\"https://www.theguardian.com/uk/technology\">tech</a>, <a class=\"top-navigation__action top-navigation__action--has-icon\" data-link-name=\"nav : primary : home\" href=\"https://www.theguardian.com/uk\" title=\"Back to homepage\">\\n<span class=\"top-navigation__icon top-navigation__icon--home\"></span>\\n<span class=\"u-h\">home</span>\\n</a>, <a class=\"top-navigation__action\" data-link-name=\"nav : primary : UK\" href=\"https://www.theguardian.com/uk-news\">\\nUK\\n</a>, <a class=\"top-navigation__action\" data-link-name=\"nav : primary : world\" href=\"https://www.theguardian.com/world\">\\nworld\\n</a>, <a class=\"top-navigation__action\" data-link-name=\"nav : primary : politics\" href=\"https://www.theguardian.com/politics\">\\npolitics\\n</a>, <a class=\"top-navigation__action\" data-link-name=\"nav : primary : sport\" href=\"https://www.theguardian.com/uk/sport\">\\nsport\\n</a>, <a class=\"top-navigation__action\" data-link-name=\"nav : primary : football\" href=\"https://www.theguardian.com/football\">\\nfootball\\n</a>, <a class=\"top-navigation__action\" data-link-name=\"nav : primary : opinion\" href=\"https://www.theguardian.com/uk/commentisfree\">\\nopinion\\n</a>, <a class=\"top-navigation__action\" data-link-name=\"nav : primary : culture\" href=\"https://www.theguardian.com/uk/culture\">\\nculture\\n</a>, <a class=\"top-navigation__action\" data-link-name=\"nav : primary : business\" href=\"https://www.theguardian.com/uk/business\">\\nbusiness\\n</a>, <a class=\"top-navigation__action\" data-link-name=\"nav : primary : lifestyle\" href=\"https://www.theguardian.com/uk/lifeandstyle\">\\nlifestyle\\n</a>, <a class=\"top-navigation__action\" data-link-name=\"nav : primary : fashion\" href=\"https://www.theguardian.com/fashion\">\\nfashion\\n</a>, <a class=\"top-navigation__action\" data-link-name=\"nav : primary : environment\" href=\"https://www.theguardian.com/uk/environment\">\\nenvironment\\n</a>, <a class=\"top-navigation__action\" data-link-name=\"nav : primary : tech\" href=\"https://www.theguardian.com/uk/technology\">\\ntech\\n<span class=\"u-h\">selected</span>\\n</a>, <a class=\"top-navigation__action\" data-link-name=\"nav : primary : travel\" href=\"https://www.theguardian.com/uk/travel\">\\ntravel\\n</a>, <a class=\"navigation-toggle js-navigation-toggle\" data-link-name=\"nav : allSections\" data-target-nav=\"js-navigation-header\" href=\"#footer-nav\">\\n<i class=\"burger-icon\"></i><span aria-controls=\"all-sections-popup\" aria-haspopup=\"true\" aria-label=\"browse all sections\" class=\"navigation-toggle-label navigation-toggle-label--open\"><span class=\"navigation-toggle-label__extra navigation-toggle-label__extra--browse\">browse </span>all<span class=\"navigation-toggle-label__extra\"> sections</span></span>\\n<span aria-label=\"close all sections\" class=\"navigation-toggle-label navigation-toggle-label--close\">close</span>\\n</a>, <a class=\"content__section-label__link\" data-link-name=\"article section\" href=\"https://www.theguardian.com/technology/amazon\">\\nAmazon\\n</a>, <a class=\"article__img-container js-gallerythumbs\" data-is-ajax=\"\" data-link-name=\"Launch Article Lightbox\" href=\"#img-1\">\\n<div class=\"u-responsive-ratio\" style=\"padding-bottom: 60.00%\">\\n<picture>\\n<!--[if IE 9]><video style=\"display: none;\"><![endif]-->\\n<source media=\"(min-width: 980px) and (-webkit-min-device-pixel-ratio: 1.25), (min-width: 980px) and (min-resolution: 120dpi)\" sizes=\"620px\" srcset=\"https://i.guim.co.uk/img/media/332c61586e0930055cef7a1f6e71d7540665d067/0_0_3000_1800/master/3000.jpg?w=620&amp;q=20&amp;auto=format&amp;usm=12&amp;fit=max&amp;dpr=2&amp;s=dfca9232f06f83297fac48d21523bc49 1240w\"></source>\\n<source media=\"(min-width: 980px)\" sizes=\"620px\" srcset=\"https://i.guim.co.uk/img/media/332c61586e0930055cef7a1f6e71d7540665d067/0_0_3000_1800/master/3000.jpg?w=620&amp;q=55&amp;auto=format&amp;usm=12&amp;fit=max&amp;s=221b9242b379342829adf59d13342dc8 620w\"></source>\\n<source media=\"(min-width: 740px) and (-webkit-min-device-pixel-ratio: 1.25), (min-width: 740px) and (min-resolution: 120dpi)\" sizes=\"700px\" srcset=\"https://i.guim.co.uk/img/media/332c61586e0930055cef7a1f6e71d7540665d067/0_0_3000_1800/master/3000.jpg?w=700&amp;q=20&amp;auto=format&amp;usm=12&amp;fit=max&amp;dpr=2&amp;s=a1c01f0e8150a5de229afe5af5787ff1 1400w\"></source>\\n<source media=\"(min-width: 740px)\" sizes=\"700px\" srcset=\"https://i.guim.co.uk/img/media/332c61586e0930055cef7a1f6e71d7540665d067/0_0_3000_1800/master/3000.jpg?w=700&amp;q=55&amp;auto=format&amp;usm=12&amp;fit=max&amp;s=d69a3f8f3d407c6ff5714f4940e92e82 700w\"></source>\\n<source media=\"(min-width: 660px) and (-webkit-min-device-pixel-ratio: 1.25), (min-width: 660px) and (min-resolution: 120dpi)\" sizes=\"620px\" srcset=\"https://i.guim.co.uk/img/media/332c61586e0930055cef7a1f6e71d7540665d067/0_0_3000_1800/master/3000.jpg?w=620&amp;q=20&amp;auto=format&amp;usm=12&amp;fit=max&amp;dpr=2&amp;s=dfca9232f06f83297fac48d21523bc49 1240w\"></source>\\n<source media=\"(min-width: 660px)\" sizes=\"620px\" srcset=\"https://i.guim.co.uk/img/media/332c61586e0930055cef7a1f6e71d7540665d067/0_0_3000_1800/master/3000.jpg?w=620&amp;q=55&amp;auto=format&amp;usm=12&amp;fit=max&amp;s=221b9242b379342829adf59d13342dc8 620w\"></source>\\n<source media=\"(min-width: 480px) and (-webkit-min-device-pixel-ratio: 1.25), (min-width: 480px) and (min-resolution: 120dpi)\" sizes=\"645px\" srcset=\"https://i.guim.co.uk/img/media/332c61586e0930055cef7a1f6e71d7540665d067/0_0_3000_1800/master/3000.jpg?w=645&amp;q=20&amp;auto=format&amp;usm=12&amp;fit=max&amp;dpr=2&amp;s=8334b28eed0525a1b495fe305c32705d 1290w\"></source>\\n<source media=\"(min-width: 480px)\" sizes=\"645px\" srcset=\"https://i.guim.co.uk/img/media/332c61586e0930055cef7a1f6e71d7540665d067/0_0_3000_1800/master/3000.jpg?w=645&amp;q=55&amp;auto=format&amp;usm=12&amp;fit=max&amp;s=821cfe81a5ec5c5334a1fa122301c55c 645w\"></source>\\n<source media=\"(min-width: 0px) and (-webkit-min-device-pixel-ratio: 1.25), (min-width: 0px) and (min-resolution: 120dpi)\" sizes=\"465px\" srcset=\"https://i.guim.co.uk/img/media/332c61586e0930055cef7a1f6e71d7540665d067/0_0_3000_1800/master/3000.jpg?w=465&amp;q=20&amp;auto=format&amp;usm=12&amp;fit=max&amp;dpr=2&amp;s=72d308b5a908072f8fc5fc92515e9320 930w\"></source>\\n<source media=\"(min-width: 0px)\" sizes=\"465px\" srcset=\"https://i.guim.co.uk/img/media/332c61586e0930055cef7a1f6e71d7540665d067/0_0_3000_1800/master/3000.jpg?w=465&amp;q=55&amp;auto=format&amp;usm=12&amp;fit=max&amp;s=91b32bb7f110bb00403ad6c352bbbc10 465w\"></source>\\n<!--[if IE 9]></video><![endif]-->\\n<img alt=\"Amazon CEO, Jeff Bezos, who emailed staff on Monday to inform them the company would be supporting the Washington state attorney general\\u2019s case against the travel ban.\" class=\"maxed responsive-img\" itemprop=\"contentUrl\" src=\"https://i.guim.co.uk/img/media/332c61586e0930055cef7a1f6e71d7540665d067/0_0_3000_1800/master/3000.jpg?w=300&amp;q=55&amp;auto=format&amp;usm=12&amp;fit=max&amp;s=8b398d7e9a121954155e8979e8f1d00a\"/>\\n</picture>\\n</div>\\n<span class=\"inline-expand-image inline-icon centered-icon rounded-icon article__fullscreen modern-visible\">\\n<svg class=\"centered-icon__svg rounded-icon__svg article__fullscreen__svg modern-visible__svg inline-expand-image__svg inline-icon__svg\" height=\"22\" viewbox=\"0 0 22 22\" width=\"22\">\\n<path d=\"M3.4 20.2L9 14.5 7.5 13l-5.7 5.6L1 14H0v7.5l.5.5H8v-1l-4.6-.8M18.7 1.9L13 7.6 14.4 9l5.7-5.7.5 4.7h1.2V.6l-.5-.5H14v1.2l4.7.6\"></path>\\n</svg>\\n</span>\\n</a>, <a class=\"social__action js-social__action--top social-icon-wrapper\" data-link-name=\"social top\" href=\"https://www.facebook.com/dialog/share?app_id=180444840287&amp;href=https%3A%2F%2Fwww.theguardian.com%2Ftechnology%2F2017%2Fjan%2F31%2Famazon-expedia-microsoft-support-washington-action-against-donald-trump-travel-ban%3FCMP%3Dshare_btn_fb\" target=\"_blank\" title=\"Facebook\">\\n<span class=\"inline-icon__fallback button share-modal__item share-modal__item--facebook\">Share on Facebook</span>\\n<span class=\"inline-share-facebook inline-icon rounded-icon centered-icon social-icon social-icon--facebook\">\\n<svg class=\"rounded-icon__svg centered-icon__svg social-icon__svg social-icon--facebook__svg inline-share-facebook__svg inline-icon__svg\" height=\"32\" viewbox=\"-2 -2 32 32\" width=\"32\">\\n<path d=\"M17.9 14h-3v8H12v-8h-2v-2.9h2V8.7C12 6.8 13.1 5 16 5c1.2 0 2 .1 2 .1v3h-1.8c-1 0-1.2.5-1.2 1.3v1.8h3l-.1 2.8z\"></path>\\n</svg>\\n</span>\\n</a>, <a class=\"social__action js-social__action--top social-icon-wrapper\" data-link-name=\"social top\" href=\"https://twitter.com/intent/tweet?text=Amazon%20pledges%20legal%20support%20to%20action%20against%20Trump%20travel%20ban&amp;url=https%3A%2F%2Fwww.theguardian.com%2Ftechnology%2F2017%2Fjan%2F31%2Famazon-expedia-microsoft-support-washington-action-against-donald-trump-travel-ban%3FCMP%3Dshare_btn_tw\" target=\"_blank\" title=\"Twitter\">\\n<span class=\"inline-icon__fallback button share-modal__item share-modal__item--twitter\">Share on Twitter</span>\\n<span class=\"inline-share-twitter inline-icon rounded-icon centered-icon social-icon social-icon--twitter\">\\n<svg class=\"rounded-icon__svg centered-icon__svg social-icon__svg social-icon--twitter__svg inline-share-twitter__svg inline-icon__svg\" height=\"32\" viewbox=\"-2 -2 32 32\" width=\"32\">\\n<path d=\"M21.3 10.5v.5c0 4.7-3.5 10.1-9.9 10.1-2 0-3.8-.6-5.3-1.6.3 0 .6.1.8.1 1.6 0 3.1-.6 4.3-1.5-1.5 0-2.8-1-3.3-2.4.2 0 .4.1.7.1l.9-.1c-1.6-.3-2.8-1.8-2.8-3.5.5.3 1 .4 1.6.4-.9-.6-1.6-1.7-1.6-2.9 0-.6.2-1.3.5-1.8 1.7 2.1 4.3 3.6 7.2 3.7-.1-.3-.1-.5-.1-.8 0-2 1.6-3.5 3.5-3.5 1 0 1.9.4 2.5 1.1.8-.1 1.5-.4 2.2-.8-.3.8-.8 1.5-1.5 1.9.7-.1 1.4-.3 2-.5-.4.4-1 1-1.7 1.5z\"></path>\\n</svg>\\n</span>\\n</a>, <a class=\"social__action js-social__action--top social-icon-wrapper\" data-link-name=\"social top\" href=\"mailto:?subject=Amazon%20pledges%20legal%20support%20to%20action%20against%20Trump%20travel%20ban&amp;body=https%3A%2F%2Fwww.theguardian.com%2Ftechnology%2F2017%2Fjan%2F31%2Famazon-expedia-microsoft-support-washington-action-against-donald-trump-travel-ban%3FCMP%3Dshare_btn_link\" target=\"_blank\" title=\"Email\">\\n<span class=\"inline-icon__fallback button share-modal__item share-modal__item--email\">Share via Email</span>\\n<span class=\"inline-share-email inline-icon rounded-icon centered-icon social-icon social-icon--email\">\\n<svg class=\"rounded-icon__svg centered-icon__svg social-icon__svg social-icon--email__svg inline-share-email__svg inline-icon__svg\" height=\"32\" viewbox=\"0 0 32 32\" width=\"32\">\\n<path d=\"M23.363 20.875H8.637v-8.938l6.545 5.687h1.637l6.544-5.687v8.938zm-1.635-9.75L16 16l-5.728-4.875h11.456zM23.363 9.5H8.637L7 11.125v9.75L8.637 22.5h14.727L25 20.875v-9.75L23.363 9.5z\"></path>\\n</svg>\\n</span>\\n</a>, <a class=\"social__action js-social__action--top social-icon-wrapper\" data-link-name=\"social top\" href=\"http://www.linkedin.com/shareArticle?mini=true&amp;title=Amazon%20pledges%20legal%20support%20to%20action%20against%20Trump%20travel%20ban&amp;url=https%3A%2F%2Fwww.theguardian.com%2Ftechnology%2F2017%2Fjan%2F31%2Famazon-expedia-microsoft-support-washington-action-against-donald-trump-travel-ban\" target=\"_blank\" title=\"LinkedIn\">\\n<span class=\" u-h \">Share on LinkedIn</span>\\n<span class=\"inline-share-linkedin inline-icon rounded-icon centered-icon social-icon social-icon--linkedin\">\\n<svg class=\"rounded-icon__svg centered-icon__svg social-icon__svg social-icon--linkedin__svg inline-share-linkedin__svg inline-icon__svg\" height=\"30\" viewbox=\"0 0 30 30\" width=\"30\">\\n<path d=\"M10.576 7.985a1.57 1.57 0 0 1 0 3.137 1.568 1.568 0 0 1 0-3.137zm-1.353 4.327h2.706v8.704H9.223v-8.704zm4.403 0h2.595v1.19h.037c.361-.685 1.244-1.407 2.56-1.407 2.737 0 3.243 1.803 3.243 4.147v4.774h-2.702v-4.232c0-1.01-.02-2.308-1.406-2.308-1.408 0-1.623 1.1-1.623 2.235v4.305h-2.704v-8.704\"></path>\\n</svg>\\n</span>\\n</a>, <a class=\"social__action js-social__action--top social-icon-wrapper\" data-link-name=\"social top\" href=\"http://www.pinterest.com/pin/find/?url=https%3A%2F%2Fwww.theguardian.com%2Ftechnology%2F2017%2Fjan%2F31%2Famazon-expedia-microsoft-support-washington-action-against-donald-trump-travel-ban\" target=\"_blank\" title=\"Pinterest\">\\n<span class=\" u-h \">Share on Pinterest</span>\\n<span class=\"inline-share-pinterest inline-icon rounded-icon centered-icon social-icon social-icon--pinterest\">\\n<svg class=\"rounded-icon__svg centered-icon__svg social-icon__svg social-icon--pinterest__svg inline-share-pinterest__svg inline-icon__svg\" viewbox=\"0 0 32 32\">\\n<path d=\"M16.363 8C12.133 8 10 11.13 10 13.74c0 1.582.58 2.988 1.823 3.512.204.086.387.003.446-.23.04-.16.137-.568.18-.737.06-.23.037-.312-.127-.513-.36-.436-.588-1-.588-1.802 0-2.322 1.684-4.402 4.384-4.402 2.39 0 3.703 1.508 3.703 3.522 0 2.65-1.136 4.887-2.822 4.887-.93 0-1.628-.795-1.405-1.77.268-1.165.786-2.42.786-3.262 0-.752-.39-1.38-1.2-1.38-.952 0-1.716 1.017-1.716 2.38 0 .867.284 1.454.284 1.454l-1.146 5.006c-.34 1.487-.05 3.31-.026 3.493.014.108.15.134.21.05.09-.117 1.223-1.562 1.61-3.006.108-.41.625-2.526.625-2.526.31.61 1.215 1.145 2.176 1.145 2.862 0 4.804-2.693 4.804-6.298C22 10.54 19.763 8 16.363 8\"></path>\\n</svg>\\n</span>\\n</a>, <a class=\"social__action js-social__action--top social-icon-wrapper\" data-link-name=\"social top\" href=\"https://plus.google.com/share?url=https%3A%2F%2Fwww.theguardian.com%2Ftechnology%2F2017%2Fjan%2F31%2Famazon-expedia-microsoft-support-washington-action-against-donald-trump-travel-ban%3FCMP%3Dshare_btn_gp&amp;amp;hl=en-GB&amp;amp;wwc=1\" target=\"_blank\" title=\"Google plus\">\\n<span class=\" u-h \">Share on Google+</span>\\n<span class=\"inline-share-gplus inline-icon rounded-icon centered-icon social-icon social-icon--gplus\">\\n<svg class=\"rounded-icon__svg centered-icon__svg social-icon__svg social-icon--gplus__svg inline-share-gplus__svg inline-icon__svg\" height=\"32\" viewbox=\"4 -4 32 32\" width=\"32\">\\n<path d=\"M8.8 12c-.1 2.9 2 5.7 4.7 6.6 2.6.9 5.8.2 7.5-2 1.3-1.6 1.6-3.6 1.4-5.6h-6.7v2.4h4c-.3 1.2-1.1 2.2-2.3 2.7-2.3 1-5.1-.3-5.8-2.7-.9-2.3.5-5 2.9-5.7 1.4-.5 2.9.1 4.1.8l1.8-1.8c-1.4-1.2-3.2-1.9-5-1.7-3.6.1-6.8 3.4-6.6 7zm18-3v2h-2v2h2v2h2v-2h2v-2h-2V9h-2z\"></path>\\n</svg>\\n</span>\\n</a>, <a class=\"social__action js-social__action--top social-icon-wrapper\" data-link-name=\"social top\" href=\"whatsapp://send?text=%22Amazon%20pledges%20legal%20support%20to%20action%20against%20Trump%20travel%20ban%22%20https%3A%2F%2Fwww.theguardian.com%2Ftechnology%2F2017%2Fjan%2F31%2Famazon-expedia-microsoft-support-washington-action-against-donald-trump-travel-ban%3FCMP%3Dshare_btn_wa\" target=\"_blank\" title=\"WhatsApp\">\\n<span class=\" u-h \">Share on WhatsApp</span>\\n<span class=\"inline-share-whatsapp inline-icon rounded-icon centered-icon social-icon social-icon--whatsapp\">\\n<svg class=\"rounded-icon__svg centered-icon__svg social-icon__svg social-icon--whatsapp__svg inline-share-whatsapp__svg inline-icon__svg\" height=\"30\" viewbox=\"0 0 30 30\" width=\"30\">\\n<path d=\"M22.09 7.87a9.9 9.9 0 0 0-7.05-2.92c-5.49 0-9.96 4.47-9.96 9.96 0 1.75.46 3.47 1.33 4.98L5 25.04l5.28-1.38c1.45.79 3.09 1.21 4.76 1.21 5.49 0 9.96-4.47 9.96-9.96a9.92 9.92 0 0 0-2.91-7.04m-7.05 15.32c-1.49 0-2.95-.4-4.22-1.15l-.3-.18-3.13.82.84-3.05-.2-.31a8.19 8.19 0 0 1-1.26-4.41c0-4.56 3.71-8.27 8.28-8.27 2.21 0 4.29.86 5.85 2.43a8.222 8.222 0 0 1 2.42 5.85c0 4.56-3.72 8.27-8.28 8.27m4.54-6.2c-.25-.12-1.47-.73-1.7-.81s-.39-.12-.56.12c-.17.25-.64.81-.79.97-.14.17-.29.19-.54.06-.25-.12-1.05-.39-2-1.23a7.283 7.283 0 0 1-1.38-1.72c-.15-.25-.02-.38.11-.51.11-.11.25-.29.37-.44.12-.15.17-.25.25-.42.08-.17.04-.31-.02-.44-.06-.12-.56-1.35-.77-1.85-.2-.49-.41-.42-.56-.43-.14-.01-.31-.01-.48-.01-.17 0-.44.06-.66.31-.22.25-.87.85-.87 2.08 0 1.22.89 2.41 1.02 2.57.12.17 1.75 2.68 4.25 3.76.59.26 1.06.41 1.42.52.6.19 1.14.16 1.57.1.48-.07 1.47-.6 1.68-1.18s.21-1.08.14-1.18c-.06-.08-.23-.14-.48-.27\"></path>\\n</svg>\\n</span>\\n</a>, <a class=\"social__action js-social__action--top social-icon-wrapper\" data-link-name=\"social top\" href=\"fb-messenger://share?link=https%3A%2F%2Fwww.theguardian.com%2Ftechnology%2F2017%2Fjan%2F31%2Famazon-expedia-microsoft-support-washington-action-against-donald-trump-travel-ban%3FCMP%3Dshare_btn_me&amp;app_id=180444840287\" target=\"_blank\" title=\"Messenger\">\\n<span class=\" u-h \">Share on Messenger</span>\\n<span class=\"inline-share-messenger inline-icon rounded-icon centered-icon social-icon social-icon--messenger\">\\n<svg class=\"rounded-icon__svg centered-icon__svg social-icon__svg social-icon--messenger__svg inline-share-messenger__svg inline-icon__svg\" height=\"66\" viewbox=\"-12 -12 90 90\" width=\"66\">\\n<path clip-rule=\"evenodd\" d=\"M33 61.1c-3.6 0-7.1-.5-10.4-1.5L10.1 66V52.5C3.9 47 0 39.2 0 30.6 0 13.7 14.8 0 33 0s33 13.7 33 30.6c0 16.8-14.8 30.5-33 30.5zM36.5 41L28 32.2l-16.4 9 18-18.9 8.5 8.8 16.4-9-18 18.9z\" fill-rule=\"evenodd\"></path>\\n</svg>\\n</span>\\n</a>, <a class=\"tone-colour\" data-link-name=\"auto tag link\" href=\"https://www.theguardian.com/profile/alex-hern\" itemprop=\"sameAs\" rel=\"author\"><span itemprop=\"name\">Alex Hern</span></a>, <a class=\"button button--small button--secondary tone-colour \" data-component=\"meta-twitter-handle\" data-link-name=\"twitter-handle\" href=\"http://twitter.com/alexhern\">\\n<span class=\"inline-twitter-bird inline-icon inline-tone-fill i-left\">\\n<svg class=\"inline-tone-fill__svg i-left__svg inline-twitter-bird__svg inline-icon__svg\" height=\"14\" viewbox=\"-298 390 14 14\" width=\"14\">\\n<path d=\"M-284 392.6c-.5.2-1.1.4-1.6.5.6-.4 1-.9 1.3-1.6-.6.3-1.2.6-1.8.7-.5-.6-1.3-.9-2.1-.9-1.6 0-2.9 1.3-2.9 2.9 0 .2 0 .4.1.7-2.4-.1-4.5-1.3-5.9-3-.2.4-.4.9-.4 1.4 0 1 .5 1.9 1.3 2.4-.5 0-.9-.1-1.3-.4 0 1.4 1 2.6 2.3 2.8-.2.1-.5.1-.8.1-.2 0-.4 0-.5-.1.4 1.1 1.4 2 2.7 2-1 .8-2.2 1.2-3.6 1.2h-.7c1.3.8 2.8 1.3 4.4 1.3 5.3 0 8.2-4.4 8.2-8.2v-.4c.3-.2.8-.8 1.3-1.4\"></path>\\n</svg>\\n</span>\\n<div class=\"contact hide-until-leftcol \">@alexhern</div>\\n</a>, <a class=\"u-underline\" data-component=\"auto-linked-tag\" data-link-name=\"auto-linked-tag\" href=\"https://www.theguardian.com/us-news/donaldtrump\">Donald Trump</a>, <a class=\"u-underline\" data-link-name=\"in body link\" href=\"http://www.chicagotribune.com/news/nationworld/ct-washington-state-lawsuit-trump-travel-ban-20170130-story.html\">the first confirmed legal action from a state against one of the new administration\\u2019s policies</a>, <a class=\"u-underline\" data-link-name=\"in body link\" href=\"http://www.recode.net/2017/1/30/14446572/amazon-jeff-bezos-fight-trump-immigration-refugee-ban-court-congress-visa\">published by Recode</a>, <a class=\"u-underline\" data-component=\"auto-linked-tag\" data-link-name=\"auto-linked-tag\" href=\"https://www.theguardian.com/technology/amazon\">Amazon</a>, <a class=\"u-underline\" data-link-name=\"in body link\" href=\"http://www.seattletimes.com/business/technology/expedia-ceo-says-trump-visa-order-shows-the-worst-of-his-proclivity-toward-rash-action/\">Khosrowshahi told employees</a>, <a class=\"u-underline\" data-link-name=\"in body link\" href=\"http://www.reuters.com/article/us-usa-trump-immigration-microsoft-idUSKBN15E2IY?utm_campaign=trueAnthem:+Trending+Content&amp;utm_content=588fb89004d30110c17317b2\">Reuters reports</a>, <a class=\"u-underline\" data-link-name=\"in body link\" draggable=\"true\" href=\"http://uk.businessinsider.com/microsoft-donald-trump-immigration-order-2017-1?r=US&amp;IR=T\">Microsoft\\u2019s statements had been limited</a>, <a class=\"submeta__tone button button--small button--tag button--secondary\" data-link-name=\"tone: News\" href=\"https://www.theguardian.com/tone/news\" itemprop=\"keywords\">More news </a>, <a class=\" button button--small button--tag button--secondary\" data-link-name=\"keyword: technology/amazon\" href=\"https://www.theguardian.com/technology/amazon\" itemprop=\"keywords\">\\nAmazon\\n</a>, <a class=\" button button--small button--tag button--secondary\" data-link-name=\"keyword: technology/jeff-bezos\" href=\"https://www.theguardian.com/technology/jeff-bezos\" itemprop=\"keywords\">\\nJeff Bezos\\n</a>, <a class=\" button button--small button--tag button--secondary\" data-link-name=\"keyword: us-news/donaldtrump\" href=\"https://www.theguardian.com/us-news/donaldtrump\" itemprop=\"keywords\">\\nDonald Trump\\n</a>, <a class=\" button button--small button--tag button--secondary\" data-link-name=\"keyword: us-news/washington-state\" href=\"https://www.theguardian.com/us-news/washington-state\" itemprop=\"keywords\">\\nWashington state\\n</a>, <a class=\"social__action js-social__action--bottom social-icon-wrapper\" data-link-name=\"social bottom\" href=\"https://www.facebook.com/dialog/share?app_id=180444840287&amp;href=https%3A%2F%2Fwww.theguardian.com%2Ftechnology%2F2017%2Fjan%2F31%2Famazon-expedia-microsoft-support-washington-action-against-donald-trump-travel-ban%3FCMP%3Dshare_btn_fb\" target=\"_blank\" title=\"Facebook\">\\n<span class=\"inline-icon__fallback button share-modal__item share-modal__item--facebook\">Share on Facebook</span>\\n<span class=\"inline-share-facebook inline-icon rounded-icon centered-icon social-icon social-icon--facebook\">\\n<svg class=\"rounded-icon__svg centered-icon__svg social-icon__svg social-icon--facebook__svg inline-share-facebook__svg inline-icon__svg\" height=\"32\" viewbox=\"-2 -2 32 32\" width=\"32\">\\n<path d=\"M17.9 14h-3v8H12v-8h-2v-2.9h2V8.7C12 6.8 13.1 5 16 5c1.2 0 2 .1 2 .1v3h-1.8c-1 0-1.2.5-1.2 1.3v1.8h3l-.1 2.8z\"></path>\\n</svg>\\n</span>\\n</a>, <a class=\"social__action js-social__action--bottom social-icon-wrapper\" data-link-name=\"social bottom\" href=\"https://twitter.com/intent/tweet?text=Amazon%20pledges%20legal%20support%20to%20action%20against%20Trump%20travel%20ban&amp;url=https%3A%2F%2Fwww.theguardian.com%2Ftechnology%2F2017%2Fjan%2F31%2Famazon-expedia-microsoft-support-washington-action-against-donald-trump-travel-ban%3FCMP%3Dshare_btn_tw\" target=\"_blank\" title=\"Twitter\">\\n<span class=\"inline-icon__fallback button share-modal__item share-modal__item--twitter\">Share on Twitter</span>\\n<span class=\"inline-share-twitter inline-icon rounded-icon centered-icon social-icon social-icon--twitter\">\\n<svg class=\"rounded-icon__svg centered-icon__svg social-icon__svg social-icon--twitter__svg inline-share-twitter__svg inline-icon__svg\" height=\"32\" viewbox=\"-2 -2 32 32\" width=\"32\">\\n<path d=\"M21.3 10.5v.5c0 4.7-3.5 10.1-9.9 10.1-2 0-3.8-.6-5.3-1.6.3 0 .6.1.8.1 1.6 0 3.1-.6 4.3-1.5-1.5 0-2.8-1-3.3-2.4.2 0 .4.1.7.1l.9-.1c-1.6-.3-2.8-1.8-2.8-3.5.5.3 1 .4 1.6.4-.9-.6-1.6-1.7-1.6-2.9 0-.6.2-1.3.5-1.8 1.7 2.1 4.3 3.6 7.2 3.7-.1-.3-.1-.5-.1-.8 0-2 1.6-3.5 3.5-3.5 1 0 1.9.4 2.5 1.1.8-.1 1.5-.4 2.2-.8-.3.8-.8 1.5-1.5 1.9.7-.1 1.4-.3 2-.5-.4.4-1 1-1.7 1.5z\"></path>\\n</svg>\\n</span>\\n</a>, <a class=\"social__action js-social__action--bottom social-icon-wrapper\" data-link-name=\"social bottom\" href=\"mailto:?subject=Amazon%20pledges%20legal%20support%20to%20action%20against%20Trump%20travel%20ban&amp;body=https%3A%2F%2Fwww.theguardian.com%2Ftechnology%2F2017%2Fjan%2F31%2Famazon-expedia-microsoft-support-washington-action-against-donald-trump-travel-ban%3FCMP%3Dshare_btn_link\" target=\"_blank\" title=\"Email\">\\n<span class=\"inline-icon__fallback button share-modal__item share-modal__item--email\">Share via Email</span>\\n<span class=\"inline-share-email inline-icon rounded-icon centered-icon social-icon social-icon--email\">\\n<svg class=\"rounded-icon__svg centered-icon__svg social-icon__svg social-icon--email__svg inline-share-email__svg inline-icon__svg\" height=\"32\" viewbox=\"0 0 32 32\" width=\"32\">\\n<path d=\"M23.363 20.875H8.637v-8.938l6.545 5.687h1.637l6.544-5.687v8.938zm-1.635-9.75L16 16l-5.728-4.875h11.456zM23.363 9.5H8.637L7 11.125v9.75L8.637 22.5h14.727L25 20.875v-9.75L23.363 9.5z\"></path>\\n</svg>\\n</span>\\n</a>, <a class=\"social__action js-social__action--bottom social-icon-wrapper\" data-link-name=\"social bottom\" href=\"http://www.linkedin.com/shareArticle?mini=true&amp;title=Amazon%20pledges%20legal%20support%20to%20action%20against%20Trump%20travel%20ban&amp;url=https%3A%2F%2Fwww.theguardian.com%2Ftechnology%2F2017%2Fjan%2F31%2Famazon-expedia-microsoft-support-washington-action-against-donald-trump-travel-ban\" target=\"_blank\" title=\"LinkedIn\">\\n<span class=\" u-h \">Share on LinkedIn</span>\\n<span class=\"inline-share-linkedin inline-icon rounded-icon centered-icon social-icon social-icon--linkedin\">\\n<svg class=\"rounded-icon__svg centered-icon__svg social-icon__svg social-icon--linkedin__svg inline-share-linkedin__svg inline-icon__svg\" height=\"30\" viewbox=\"0 0 30 30\" width=\"30\">\\n<path d=\"M10.576 7.985a1.57 1.57 0 0 1 0 3.137 1.568 1.568 0 0 1 0-3.137zm-1.353 4.327h2.706v8.704H9.223v-8.704zm4.403 0h2.595v1.19h.037c.361-.685 1.244-1.407 2.56-1.407 2.737 0 3.243 1.803 3.243 4.147v4.774h-2.702v-4.232c0-1.01-.02-2.308-1.406-2.308-1.408 0-1.623 1.1-1.623 2.235v4.305h-2.704v-8.704\"></path>\\n</svg>\\n</span>\\n</a>, <a class=\"social__action js-social__action--bottom social-icon-wrapper\" data-link-name=\"social bottom\" href=\"http://www.pinterest.com/pin/find/?url=https%3A%2F%2Fwww.theguardian.com%2Ftechnology%2F2017%2Fjan%2F31%2Famazon-expedia-microsoft-support-washington-action-against-donald-trump-travel-ban\" target=\"_blank\" title=\"Pinterest\">\\n<span class=\" u-h \">Share on Pinterest</span>\\n<span class=\"inline-share-pinterest inline-icon rounded-icon centered-icon social-icon social-icon--pinterest\">\\n<svg class=\"rounded-icon__svg centered-icon__svg social-icon__svg social-icon--pinterest__svg inline-share-pinterest__svg inline-icon__svg\" viewbox=\"0 0 32 32\">\\n<path d=\"M16.363 8C12.133 8 10 11.13 10 13.74c0 1.582.58 2.988 1.823 3.512.204.086.387.003.446-.23.04-.16.137-.568.18-.737.06-.23.037-.312-.127-.513-.36-.436-.588-1-.588-1.802 0-2.322 1.684-4.402 4.384-4.402 2.39 0 3.703 1.508 3.703 3.522 0 2.65-1.136 4.887-2.822 4.887-.93 0-1.628-.795-1.405-1.77.268-1.165.786-2.42.786-3.262 0-.752-.39-1.38-1.2-1.38-.952 0-1.716 1.017-1.716 2.38 0 .867.284 1.454.284 1.454l-1.146 5.006c-.34 1.487-.05 3.31-.026 3.493.014.108.15.134.21.05.09-.117 1.223-1.562 1.61-3.006.108-.41.625-2.526.625-2.526.31.61 1.215 1.145 2.176 1.145 2.862 0 4.804-2.693 4.804-6.298C22 10.54 19.763 8 16.363 8\"></path>\\n</svg>\\n</span>\\n</a>, <a class=\"social__action js-social__action--bottom social-icon-wrapper\" data-link-name=\"social bottom\" href=\"https://plus.google.com/share?url=https%3A%2F%2Fwww.theguardian.com%2Ftechnology%2F2017%2Fjan%2F31%2Famazon-expedia-microsoft-support-washington-action-against-donald-trump-travel-ban%3FCMP%3Dshare_btn_gp&amp;amp;hl=en-GB&amp;amp;wwc=1\" target=\"_blank\" title=\"Google plus\">\\n<span class=\" u-h \">Share on Google+</span>\\n<span class=\"inline-share-gplus inline-icon rounded-icon centered-icon social-icon social-icon--gplus\">\\n<svg class=\"rounded-icon__svg centered-icon__svg social-icon__svg social-icon--gplus__svg inline-share-gplus__svg inline-icon__svg\" height=\"32\" viewbox=\"4 -4 32 32\" width=\"32\">\\n<path d=\"M8.8 12c-.1 2.9 2 5.7 4.7 6.6 2.6.9 5.8.2 7.5-2 1.3-1.6 1.6-3.6 1.4-5.6h-6.7v2.4h4c-.3 1.2-1.1 2.2-2.3 2.7-2.3 1-5.1-.3-5.8-2.7-.9-2.3.5-5 2.9-5.7 1.4-.5 2.9.1 4.1.8l1.8-1.8c-1.4-1.2-3.2-1.9-5-1.7-3.6.1-6.8 3.4-6.6 7zm18-3v2h-2v2h2v2h2v-2h2v-2h-2V9h-2z\"></path>\\n</svg>\\n</span>\\n</a>, <a class=\"social__action js-social__action--bottom social-icon-wrapper\" data-link-name=\"social bottom\" href=\"whatsapp://send?text=%22Amazon%20pledges%20legal%20support%20to%20action%20against%20Trump%20travel%20ban%22%20https%3A%2F%2Fwww.theguardian.com%2Ftechnology%2F2017%2Fjan%2F31%2Famazon-expedia-microsoft-support-washington-action-against-donald-trump-travel-ban%3FCMP%3Dshare_btn_wa\" target=\"_blank\" title=\"WhatsApp\">\\n<span class=\" u-h \">Share on WhatsApp</span>\\n<span class=\"inline-share-whatsapp inline-icon rounded-icon centered-icon social-icon social-icon--whatsapp\">\\n<svg class=\"rounded-icon__svg centered-icon__svg social-icon__svg social-icon--whatsapp__svg inline-share-whatsapp__svg inline-icon__svg\" height=\"30\" viewbox=\"0 0 30 30\" width=\"30\">\\n<path d=\"M22.09 7.87a9.9 9.9 0 0 0-7.05-2.92c-5.49 0-9.96 4.47-9.96 9.96 0 1.75.46 3.47 1.33 4.98L5 25.04l5.28-1.38c1.45.79 3.09 1.21 4.76 1.21 5.49 0 9.96-4.47 9.96-9.96a9.92 9.92 0 0 0-2.91-7.04m-7.05 15.32c-1.49 0-2.95-.4-4.22-1.15l-.3-.18-3.13.82.84-3.05-.2-.31a8.19 8.19 0 0 1-1.26-4.41c0-4.56 3.71-8.27 8.28-8.27 2.21 0 4.29.86 5.85 2.43a8.222 8.222 0 0 1 2.42 5.85c0 4.56-3.72 8.27-8.28 8.27m4.54-6.2c-.25-.12-1.47-.73-1.7-.81s-.39-.12-.56.12c-.17.25-.64.81-.79.97-.14.17-.29.19-.54.06-.25-.12-1.05-.39-2-1.23a7.283 7.283 0 0 1-1.38-1.72c-.15-.25-.02-.38.11-.51.11-.11.25-.29.37-.44.12-.15.17-.25.25-.42.08-.17.04-.31-.02-.44-.06-.12-.56-1.35-.77-1.85-.2-.49-.41-.42-.56-.43-.14-.01-.31-.01-.48-.01-.17 0-.44.06-.66.31-.22.25-.87.85-.87 2.08 0 1.22.89 2.41 1.02 2.57.12.17 1.75 2.68 4.25 3.76.59.26 1.06.41 1.42.52.6.19 1.14.16 1.57.1.48-.07 1.47-.6 1.68-1.18s.21-1.08.14-1.18c-.06-.08-.23-.14-.48-.27\"></path>\\n</svg>\\n</span>\\n</a>, <a class=\"social__action js-social__action--bottom social-icon-wrapper\" data-link-name=\"social bottom\" href=\"fb-messenger://share?link=https%3A%2F%2Fwww.theguardian.com%2Ftechnology%2F2017%2Fjan%2F31%2Famazon-expedia-microsoft-support-washington-action-against-donald-trump-travel-ban%3FCMP%3Dshare_btn_me&amp;app_id=180444840287\" target=\"_blank\" title=\"Messenger\">\\n<span class=\" u-h \">Share on Messenger</span>\\n<span class=\"inline-share-messenger inline-icon rounded-icon centered-icon social-icon social-icon--messenger\">\\n<svg class=\"rounded-icon__svg centered-icon__svg social-icon__svg social-icon--messenger__svg inline-share-messenger__svg inline-icon__svg\" height=\"66\" viewbox=\"-12 -12 90 90\" width=\"66\">\\n<path clip-rule=\"evenodd\" d=\"M33 61.1c-3.6 0-7.1-.5-10.4-1.5L10.1 66V52.5C3.9 47 0 39.2 0 30.6 0 13.7 14.8 0 33 0s33 13.7 33 30.6c0 16.8-14.8 30.5-33 30.5zM36.5 41L28 32.2l-16.4 9 18-18.9 8.5 8.8 16.4-9-18 18.9z\" fill-rule=\"evenodd\"></path>\\n</svg>\\n</span>\\n</a>, <a class=\"syndication__action\" data-link-name=\"meta-syndication-article\" href=\"http://syndication.theguardian.com/automation/?url=https%3A%2F%2Fwww.theguardian.com%2Ftechnology%2F2017%2Fjan%2F31%2Famazon-expedia-microsoft-support-washington-action-against-donald-trump-travel-ban&amp;type=article&amp;internalpagecode=3149699\" target=\"_blank\" title=\"Reuse this content\">\\n<span class=\"syndication__link button button--syndication-reprint button--small\">Reuse this content</span>\\n</a>, <a data-link-name=\"Most viewed technology\" href=\"https://www.theguardian.com/most-read/technology\">most viewed</a>, <a class=\"guardian-logo-footer hide-on-mobile\" data-link-name=\"site logo\" href=\"https://www.theguardian.com/uk\">\\n<span class=\"u-h\">The Guardian</span>\\n<i class=\"i i-guardian-logo-160\"></i>\\n</a>, <a class=\"brand-bar__item brand-bar__item--action\" data-link-name=\"back to top\" href=\"#top\">\\n<span class=\"rounded-icon control__icon-wrapper\">\\n<span class=\"inline-arrow-up inline-icon \">\\n<svg class=\"inline-arrow-up__svg inline-icon__svg\" height=\"18\" viewbox=\"0 0 24 18\" width=\"24\">\\n<path d=\"M.4 15.3l10.5-8.4L12 6l1.1.9 10.5 8.4-.5.7L12 9.7.9 16l-.5-.7z\"></path>\\n</svg>\\n</span>\\n</span>\\n<span class=\"control__info\">back to top</span>\\n</a>, <a class=\"top-navigation__action top-navigation__action--has-icon\" data-link-name=\"nav : primary : home\" href=\"https://www.theguardian.com/uk\" title=\"Back to homepage\">\\n<span class=\"top-navigation__icon top-navigation__icon--home\"></span>\\n<span class=\"u-h\">home</span>\\n</a>, <a class=\"top-navigation__action\" data-link-name=\"nav : primary : UK\" href=\"https://www.theguardian.com/uk-news\">\\nUK\\n</a>, <a class=\"top-navigation__action\" data-link-name=\"nav : primary : world\" href=\"https://www.theguardian.com/world\">\\nworld\\n</a>, <a class=\"top-navigation__action\" data-link-name=\"nav : primary : politics\" href=\"https://www.theguardian.com/politics\">\\npolitics\\n</a>, <a class=\"top-navigation__action\" data-link-name=\"nav : primary : sport\" href=\"https://www.theguardian.com/uk/sport\">\\nsport\\n</a>, <a class=\"top-navigation__action\" data-link-name=\"nav : primary : football\" href=\"https://www.theguardian.com/football\">\\nfootball\\n</a>, <a class=\"top-navigation__action\" data-link-name=\"nav : primary : opinion\" href=\"https://www.theguardian.com/uk/commentisfree\">\\nopinion\\n</a>, <a class=\"top-navigation__action\" data-link-name=\"nav : primary : culture\" href=\"https://www.theguardian.com/uk/culture\">\\nculture\\n</a>, <a class=\"top-navigation__action\" data-link-name=\"nav : primary : business\" href=\"https://www.theguardian.com/uk/business\">\\nbusiness\\n</a>, <a class=\"top-navigation__action\" data-link-name=\"nav : primary : lifestyle\" href=\"https://www.theguardian.com/uk/lifeandstyle\">\\nlifestyle\\n</a>, <a class=\"top-navigation__action\" data-link-name=\"nav : primary : fashion\" href=\"https://www.theguardian.com/fashion\">\\nfashion\\n</a>, <a class=\"top-navigation__action\" data-link-name=\"nav : primary : environment\" href=\"https://www.theguardian.com/uk/environment\">\\nenvironment\\n</a>, <a class=\"top-navigation__action\" data-link-name=\"nav : primary : tech\" href=\"https://www.theguardian.com/uk/technology\">\\ntech\\n<span class=\"u-h\">selected</span>\\n</a>, <a class=\"top-navigation__action\" data-link-name=\"nav : primary : travel\" href=\"https://www.theguardian.com/uk/travel\">\\ntravel\\n</a>, <a class=\"navigation-toggle js-navigation-toggle\" data-link-name=\"nav : allSections\" data-target-nav=\"js-navigation-footer\" href=\"#top\">\\n<span class=\"inline-arrow-up inline-icon modern-hidden\">\\n<svg class=\"modern-hidden__svg inline-arrow-up__svg inline-icon__svg\" height=\"18\" viewbox=\"0 0 24 18\" width=\"24\">\\n<path d=\"M.4 15.3l10.5-8.4L12 6l1.1.9 10.5 8.4-.5.7L12 9.7.9 16l-.5-.7z\"></path>\\n</svg>\\n</span>\\n<i class=\"burger-icon modern-visible\"></i>\\n<span aria-controls=\"all-sections-popup\" aria-haspopup=\"true\" aria-label=\"view all sections\" class=\"navigation-toggle-label navigation-toggle-label--open\">all<span class=\"navigation-toggle-label__extra\"> sections</span></span>\\n<span aria-label=\"close all sections\" class=\"navigation-toggle-label navigation-toggle-label--close\">close</span>\\n</a>, <a class=\"global-navigation__title\" data-link-name=\"nav : globalTop : home\" href=\"https://www.theguardian.com/uk\">\\nhome\\n</a>, <a class=\"global-navigation__title\" data-link-name=\"nav : globalTop : UK\" href=\"https://www.theguardian.com/uk-news\">\\nUK\\n</a>, <a class=\"global-navigation__action\" data-link-name=\"nav : globalSub : education\" href=\"https://www.theguardian.com/education\">\\neducation\\n</a>, <a class=\"global-navigation__action\" data-link-name=\"nav : globalSub : media\" href=\"https://www.theguardian.com/uk/media\">\\nmedia\\n</a>, <a class=\"global-navigation__action\" data-link-name=\"nav : globalSub : society\" href=\"https://www.theguardian.com/society\">\\nsociety\\n</a>, <a class=\"global-navigation__action\" data-link-name=\"nav : globalSub : law\" href=\"https://www.theguardian.com/law\">\\nlaw\\n</a>, <a class=\"global-navigation__action\" data-link-name=\"nav : globalSub : scotland\" href=\"https://www.theguardian.com/uk/scotland\">\\nscotland\\n</a>, <a class=\"global-navigation__action\" data-link-name=\"nav : globalSub : wales\" href=\"https://www.theguardian.com/uk/wales\">\\nwales\\n</a>, <a class=\"global-navigation__action\" data-link-name=\"nav : globalSub : northern ireland\" href=\"https://www.theguardian.com/uk/northernireland\">\\nnorthern ireland\\n</a>, <a class=\"global-navigation__title\" data-link-name=\"nav : globalTop : politics\" href=\"https://www.theguardian.com/politics\">\\npolitics\\n</a>, <a class=\"global-navigation__title\" data-link-name=\"nav : globalTop : world\" href=\"https://www.theguardian.com/world\">\\nworld\\n</a>, <a class=\"global-navigation__action\" data-link-name=\"nav : globalSub : europe\" href=\"https://www.theguardian.com/world/europe-news\">\\neurope\\n</a>, <a class=\"global-navigation__action\" data-link-name=\"nav : globalSub : US\" href=\"https://www.theguardian.com/us-news\">\\nUS\\n</a>, <a class=\"global-navigation__action\" data-link-name=\"nav : globalSub : americas\" href=\"https://www.theguardian.com/world/americas\">\\namericas\\n</a>, <a class=\"global-navigation__action\" data-link-name=\"nav : globalSub : asia\" href=\"https://www.theguardian.com/world/asia\">\\nasia\\n</a>, <a class=\"global-navigation__action\" data-link-name=\"nav : globalSub : australia\" href=\"https://www.theguardian.com/australia-news\">\\naustralia\\n</a>, <a class=\"global-navigation__action\" data-link-name=\"nav : globalSub : africa\" href=\"https://www.theguardian.com/world/africa\">\\nafrica\\n</a>, <a class=\"global-navigation__action\" data-link-name=\"nav : globalSub : middle east\" href=\"https://www.theguardian.com/world/middleeast\">\\nmiddle east\\n</a>, <a class=\"global-navigation__action\" data-link-name=\"nav : globalSub : cities\" href=\"https://www.theguardian.com/cities\">\\ncities\\n</a>, <a class=\"global-navigation__action\" data-link-name=\"nav : globalSub : development\" href=\"https://www.theguardian.com/global-development\">\\ndevelopment\\n</a>, <a class=\"global-navigation__title\" data-link-name=\"nav : globalTop : sport\" href=\"https://www.theguardian.com/uk/sport\">\\nsport\\n</a>, <a class=\"global-navigation__action\" data-link-name=\"nav : globalSub : football\" href=\"https://www.theguardian.com/football\">\\nfootball\\n</a>, <a class=\"global-navigation__action\" data-link-name=\"nav : globalSub : cricket\" href=\"https://www.theguardian.com/sport/cricket\">\\ncricket\\n</a>, <a class=\"global-navigation__action\" data-link-name=\"nav : globalSub : rugby union\" href=\"https://www.theguardian.com/sport/rugby-union\">\\nrugby union\\n</a>, <a class=\"global-navigation__action\" data-link-name=\"nav : globalSub : F1\" href=\"https://www.theguardian.com/sport/formulaone\">\\nF1\\n</a>, <a class=\"global-navigation__action\" data-link-name=\"nav : globalSub : tennis\" href=\"https://www.theguardian.com/sport/tennis\">\\ntennis\\n</a>, <a class=\"global-navigation__action\" data-link-name=\"nav : globalSub : golf\" href=\"https://www.theguardian.com/sport/golf\">\\ngolf\\n</a>, <a class=\"global-navigation__action\" data-link-name=\"nav : globalSub : cycling\" href=\"https://www.theguardian.com/sport/cycling\">\\ncycling\\n</a>, <a class=\"global-navigation__action\" data-link-name=\"nav : globalSub : boxing\" href=\"https://www.theguardian.com/sport/boxing\">\\nboxing\\n</a>, <a class=\"global-navigation__action\" data-link-name=\"nav : globalSub : racing\" href=\"https://www.theguardian.com/sport/horse-racing\">\\nracing\\n</a>, <a class=\"global-navigation__action\" data-link-name=\"nav : globalSub : rugby league\" href=\"https://www.theguardian.com/sport/rugbyleague\">\\nrugby league\\n</a>, <a class=\"global-navigation__action\" data-link-name=\"nav : globalSub : US sports\" href=\"https://www.theguardian.com/sport/us-sport\">\\nUS sports\\n</a>, <a class=\"global-navigation__title\" data-link-name=\"nav : globalTop : football\" href=\"https://www.theguardian.com/football\">\\nfootball\\n</a>, <a class=\"global-navigation__action\" data-link-name=\"nav : globalSub : live scores\" href=\"https://www.theguardian.com/football/live\">\\nlive scores\\n</a>, <a class=\"global-navigation__action\" data-link-name=\"nav : globalSub : tables\" href=\"https://www.theguardian.com/football/tables\">\\ntables\\n</a>, <a class=\"global-navigation__action\" data-link-name=\"nav : globalSub : competitions\" href=\"https://www.theguardian.com/football/competitions\">\\ncompetitions\\n</a>, <a class=\"global-navigation__action\" data-link-name=\"nav : globalSub : results\" href=\"https://www.theguardian.com/football/results\">\\nresults\\n</a>, <a class=\"global-navigation__action\" data-link-name=\"nav : globalSub : fixtures\" href=\"https://www.theguardian.com/football/fixtures\">\\nfixtures\\n</a>, <a class=\"global-navigation__action\" data-link-name=\"nav : globalSub : clubs\" href=\"https://www.theguardian.com/football/teams\">\\nclubs\\n</a>, <a class=\"global-navigation__title\" data-link-name=\"nav : globalTop : opinion\" href=\"https://www.theguardian.com/uk/commentisfree\">\\nopinion\\n</a>, <a class=\"global-navigation__action\" data-link-name=\"nav : globalSub : columnists\" href=\"https://www.theguardian.com/index/contributors\">\\ncolumnists\\n</a>, <a class=\"global-navigation__title\" data-link-name=\"nav : globalTop : culture\" href=\"https://www.theguardian.com/uk/culture\">\\nculture\\n</a>, <a class=\"global-navigation__action\" data-link-name=\"nav : globalSub : film\" href=\"https://www.theguardian.com/uk/film\">\\nfilm\\n</a>, <a class=\"global-navigation__action\" data-link-name=\"nav : globalSub : tv &amp; radio\" href=\"https://www.theguardian.com/uk/tv-and-radio\">\\ntv &amp; radio\\n</a>, <a class=\"global-navigation__action\" data-link-name=\"nav : globalSub : music\" href=\"https://www.theguardian.com/music\">\\nmusic\\n</a>, <a class=\"global-navigation__action\" data-link-name=\"nav : globalSub : games\" href=\"https://www.theguardian.com/technology/games\">\\ngames\\n</a>, <a class=\"global-navigation__action\" data-link-name=\"nav : globalSub : books\" href=\"https://www.theguardian.com/books\">\\nbooks\\n</a>, <a class=\"global-navigation__action\" data-link-name=\"nav : globalSub : art &amp; design\" href=\"https://www.theguardian.com/artanddesign\">\\nart &amp; design\\n</a>, <a class=\"global-navigation__action\" data-link-name=\"nav : globalSub : stage\" href=\"https://www.theguardian.com/stage\">\\nstage\\n</a>, <a class=\"global-navigation__action\" data-link-name=\"nav : globalSub : classical\" href=\"https://www.theguardian.com/music/classicalmusicandopera\">\\nclassical\\n</a>, <a class=\"global-navigation__title\" data-link-name=\"nav : globalTop : business\" href=\"https://www.theguardian.com/uk/business\">\\nbusiness\\n</a>, <a class=\"global-navigation__action\" data-link-name=\"nav : globalSub : economics\" href=\"https://www.theguardian.com/business/economics\">\\neconomics\\n</a>, <a class=\"global-navigation__action\" data-link-name=\"nav : globalSub : banking\" href=\"https://www.theguardian.com/business/banking\">\\nbanking\\n</a>, <a class=\"global-navigation__action\" data-link-name=\"nav : globalSub : retail\" href=\"https://www.theguardian.com/business/retail\">\\nretail\\n</a>, <a class=\"global-navigation__action\" data-link-name=\"nav : globalSub : markets\" href=\"https://www.theguardian.com/business/stock-markets\">\\nmarkets\\n</a>, <a class=\"global-navigation__action\" data-link-name=\"nav : globalSub : eurozone\" href=\"https://www.theguardian.com/business/eurozone\">\\neurozone\\n</a>, <a class=\"global-navigation__title\" data-link-name=\"nav : globalTop : lifestyle\" href=\"https://www.theguardian.com/uk/lifeandstyle\">\\nlifestyle\\n</a>, <a class=\"global-navigation__action\" data-link-name=\"nav : globalSub : food\" href=\"https://www.theguardian.com/lifeandstyle/food-and-drink\">\\nfood\\n</a>, <a class=\"global-navigation__action\" data-link-name=\"nav : globalSub : health &amp; fitness\" href=\"https://www.theguardian.com/lifeandstyle/health-and-wellbeing\">\\nhealth &amp; fitness\\n</a>, <a class=\"global-navigation__action\" data-link-name=\"nav : globalSub : love &amp; sex\" href=\"https://www.theguardian.com/lifeandstyle/love-and-sex\">\\nlove &amp; sex\\n</a>, <a class=\"global-navigation__action\" data-link-name=\"nav : globalSub : family\" href=\"https://www.theguardian.com/lifeandstyle/family\">\\nfamily\\n</a>, <a class=\"global-navigation__action\" data-link-name=\"nav : globalSub : women\" href=\"https://www.theguardian.com/lifeandstyle/women\">\\nwomen\\n</a>, <a class=\"global-navigation__action\" data-link-name=\"nav : globalSub : home &amp; garden\" href=\"https://www.theguardian.com/lifeandstyle/home-and-garden\">\\nhome &amp; garden\\n</a>, <a class=\"global-navigation__title\" data-link-name=\"nav : globalTop : fashion\" href=\"https://www.theguardian.com/fashion\">\\nfashion\\n</a>, <a class=\"global-navigation__title\" data-link-name=\"nav : globalTop : environment\" href=\"https://www.theguardian.com/uk/environment\">\\nenvironment\\n</a>, <a class=\"global-navigation__action\" data-link-name=\"nav : globalSub : climate change\" href=\"https://www.theguardian.com/environment/climate-change\">\\nclimate change\\n</a>, <a class=\"global-navigation__action\" data-link-name=\"nav : globalSub : wildlife\" href=\"https://www.theguardian.com/environment/wildlife\">\\nwildlife\\n</a>, <a class=\"global-navigation__action\" data-link-name=\"nav : globalSub : energy\" href=\"https://www.theguardian.com/environment/energy\">\\nenergy\\n</a>, <a class=\"global-navigation__action\" data-link-name=\"nav : globalSub : pollution\" href=\"https://www.theguardian.com/environment/pollution\">\\npollution\\n</a>, <a class=\"global-navigation__title\" data-link-name=\"nav : globalTop : tech\" href=\"https://www.theguardian.com/uk/technology\">\\ntech\\n<span class=\"u-h\">selected</span>\\n</a>, <a class=\"global-navigation__title\" data-link-name=\"nav : globalTop : travel\" href=\"https://www.theguardian.com/uk/travel\">\\ntravel\\n</a>, <a class=\"global-navigation__action\" data-link-name=\"nav : globalSub : UK\" href=\"https://www.theguardian.com/travel/uk\">\\nUK\\n</a>, <a class=\"global-navigation__action\" data-link-name=\"nav : globalSub : europe\" href=\"https://www.theguardian.com/travel/europe\">\\neurope\\n</a>, <a class=\"global-navigation__action\" data-link-name=\"nav : globalSub : US\" href=\"https://www.theguardian.com/travel/usa\">\\nUS\\n</a>, <a class=\"global-navigation__action\" data-link-name=\"nav : globalSub : skiing\" href=\"https://www.theguardian.com/travel/skiing\">\\nskiing\\n</a>, <a class=\"global-navigation__title\" data-link-name=\"nav : globalTop : money\" href=\"https://www.theguardian.com/uk/money\">\\nmoney\\n</a>, <a class=\"global-navigation__action\" data-link-name=\"nav : globalSub : property\" href=\"https://www.theguardian.com/money/property\">\\nproperty\\n</a>, <a class=\"global-navigation__action\" data-link-name=\"nav : globalSub : savings\" href=\"https://www.theguardian.com/money/savings\">\\nsavings\\n</a>, <a class=\"global-navigation__action\" data-link-name=\"nav : globalSub : pensions\" href=\"https://www.theguardian.com/money/pensions\">\\npensions\\n</a>, <a class=\"global-navigation__action\" data-link-name=\"nav : globalSub : borrowing\" href=\"https://www.theguardian.com/money/debt\">\\nborrowing\\n</a>, <a class=\"global-navigation__action\" data-link-name=\"nav : globalSub : careers\" href=\"https://www.theguardian.com/money/work-and-careers\">\\ncareers\\n</a>, <a class=\"global-navigation__title\" data-link-name=\"nav : globalTop : science\" href=\"https://www.theguardian.com/science\">\\nscience\\n</a>, <a class=\"global-navigation__title\" data-link-name=\"nav : globalTop : professional networks\" href=\"https://www.theguardian.com/guardian-professional\">\\nprofessional networks\\n</a>, <a class=\"global-navigation__title\" data-link-name=\"nav : globalTop : the observer\" href=\"https://www.theguardian.com/observer\">\\nthe observer\\n</a>, <a class=\"global-navigation__title\" data-link-name=\"nav : globalTop : today's paper\" href=\"https://www.theguardian.com/theguardian\">\\ntoday's paper\\n</a>, <a class=\"global-navigation__action\" data-link-name=\"nav : globalSub : editorials &amp; letters\" href=\"https://www.theguardian.com/theguardian/mainsection/editorialsandreply\">\\neditorials &amp; letters\\n</a>, <a class=\"global-navigation__action\" data-link-name=\"nav : globalSub : obituaries\" href=\"https://www.theguardian.com/tone/obituaries\">\\nobituaries\\n</a>, <a class=\"global-navigation__action\" data-link-name=\"nav : globalSub : g2\" href=\"https://www.theguardian.com/theguardian/g2\">\\ng2\\n</a>, <a class=\"global-navigation__action\" data-link-name=\"nav : globalSub : weekend\" href=\"https://www.theguardian.com/theguardian/weekend\">\\nweekend\\n</a>, <a class=\"global-navigation__action\" data-link-name=\"nav : globalSub : the guide\" href=\"https://www.theguardian.com/theguardian/theguide\">\\nthe guide\\n</a>, <a class=\"global-navigation__action\" data-link-name=\"nav : globalSub : saturday review\" href=\"https://www.theguardian.com/theguardian/guardianreview\">\\nsaturday review\\n</a>, <a class=\"global-navigation__title\" data-link-name=\"nav : globalTop : sunday's paper\" href=\"https://www.theguardian.com/theobserver\">\\nsunday's paper\\n</a>, <a class=\"global-navigation__action\" data-link-name=\"nav : globalSub : comment\" href=\"https://www.theguardian.com/theobserver/news/comment\">\\ncomment\\n</a>, <a class=\"global-navigation__action\" data-link-name=\"nav : globalSub : the new review\" href=\"https://www.theguardian.com/theobserver/new-review\">\\nthe new review\\n</a>, <a class=\"global-navigation__action\" data-link-name=\"nav : globalSub : observer magazine\" href=\"https://www.theguardian.com/theobserver/magazine\">\\nobserver magazine\\n</a>, <a class=\"global-navigation__title\" data-link-name=\"nav : globalTop : membership\" href=\"https://www.theguardian.com/membership\">\\nmembership\\n</a>, <a class=\"global-navigation__title\" data-link-name=\"nav : globalTop : crosswords\" href=\"https://www.theguardian.com/crosswords\">\\ncrosswords\\n</a>, <a class=\"global-navigation__action\" data-link-name=\"nav : globalSub : blog\" href=\"https://www.theguardian.com/crosswords/crossword-blog\">\\nblog\\n</a>, <a class=\"global-navigation__action\" data-link-name=\"nav : globalSub : editor\" href=\"https://www.theguardian.com/crosswords/series/crossword-editor-update\">\\neditor\\n</a>, <a class=\"global-navigation__action\" data-link-name=\"nav : globalSub : quick\" href=\"https://www.theguardian.com/crosswords/series/quick\">\\nquick\\n</a>, <a class=\"global-navigation__action\" data-link-name=\"nav : globalSub : cryptic\" href=\"https://www.theguardian.com/crosswords/series/cryptic\">\\ncryptic\\n</a>, <a class=\"global-navigation__action\" data-link-name=\"nav : globalSub : prize\" href=\"https://www.theguardian.com/crosswords/series/prize\">\\nprize\\n</a>, <a class=\"global-navigation__action\" data-link-name=\"nav : globalSub : quiptic\" href=\"https://www.theguardian.com/crosswords/series/quiptic\">\\nquiptic\\n</a>, <a class=\"global-navigation__action\" data-link-name=\"nav : globalSub : genius\" href=\"https://www.theguardian.com/crosswords/series/genius\">\\ngenius\\n</a>, <a class=\"global-navigation__action\" data-link-name=\"nav : globalSub : speedy\" href=\"https://www.theguardian.com/crosswords/series/speedy\">\\nspeedy\\n</a>, <a class=\"global-navigation__action\" data-link-name=\"nav : globalSub : everyman\" href=\"https://www.theguardian.com/crosswords/series/everyman\">\\neveryman\\n</a>, <a class=\"global-navigation__action\" data-link-name=\"nav : globalSub : azed\" href=\"https://www.theguardian.com/crosswords/series/azed\">\\nazed\\n</a>, <a class=\"global-navigation__title\" data-link-name=\"nav : globalTop : video\" href=\"https://www.theguardian.com/video\">\\nvideo\\n</a>, <a class=\"signposting__action\" data-link-name=\"/technology\" href=\"https://www.theguardian.com/uk/technology\" itemprop=\"url\"><span itemprop=\"title\">Technology</span></a>, <a class=\"signposting__action\" data-link-name=\"/technology/amazon\" href=\"https://www.theguardian.com/technology/amazon\" itemprop=\"url\"><span itemprop=\"title\">Amazon</span></a>, <a data-link-name=\"uk : footer : facebook\" href=\"https://www.facebook.com/theguardian\">\\nFacebook</a>, <a data-link-name=\"uk : footer : twitter\" href=\"https://twitter.com/guardian\">\\nTwitter</a>, <a data-link-name=\"uk : footer : membership\" href=\"https://membership.theguardian.com/?INTCMP=NGW_FOOTER_UK_GU_MEMBERSHIP\">\\nmembership</a>, <a data-link-name=\"uk : footer : jobs\" href=\"https://jobs.theguardian.com/?INTCMP=NGW_FOOTER_UK_GU_JOBS\">\\njobs</a>, <a data-link-name=\"uk : footer : soulmates\" href=\"https://soulmates.theguardian.com/?INTCMP=NGW_FOOTER_UK_GU_SOULMATES\">\\ndating</a>, <a data-link-name=\"uk : footer : modern slavery act statement\" href=\"https://www.theguardian.com/info/2016/jul/27/modern-slavery-and-our-supply-chains?INTCMP=NGW_FOOTER_UK_GU_MODERN_SLAVERY_ACT\">\\nmodern slavery act statement</a>, <a data-link-name=\"uk : footer : guardian labs\" href=\"https://www.theguardian.com/guardian-labs\">\\nGuardian labs</a>, <a data-link-name=\"uk : footer : subscribe\" href=\"https://subscribe.theguardian.com/?INTCMP=NGW_FOOTER_UK_GU_SUBSCRIBE\">\\nsubscribe</a>, <a data-link-name=\"all topics\" href=\"https://www.theguardian.com/index/subjects/a\">\\nall topics</a>, <a data-link-name=\"all contributors\" href=\"https://www.theguardian.com/index/contributors\">\\nall contributors</a>, <a data-link-name=\"uk : footer : about us\" href=\"https://www.theguardian.com/info\">\\nabout us</a>, <a data-link-name=\"uk : footer : contact us\" href=\"https://www.theguardian.com/help/contact-us\">\\ncontact us</a>, <a class=\"js-tech-feedback-report\" data-link-name=\"tech feedback\" href=\"https://www.theguardian.com/info/tech-feedback\">\\nreport technical issue\\n</a>, <a data-link-name=\"complaints\" href=\"https://www.theguardian.com/info/complaints-and-corrections\">\\ncomplaints &amp; corrections</a>, <a data-link-name=\"terms\" href=\"https://www.theguardian.com/help/terms-of-service\">\\nterms &amp; conditions</a>, <a data-link-name=\"privacy\" href=\"https://www.theguardian.com/info/privacy\">\\nprivacy policy</a>, <a data-link-name=\"cookie\" href=\"https://www.theguardian.com/info/cookies\">cookie policy</a>, <a data-link-name=\"securedrop\" href=\"https://securedrop.theguardian.com/\">\\nsecuredrop</a>]\n"
     ]
    }
   ],
   "source": [
    "links = soup.find_all('a')\n",
    "print links"
   ]
  },
  {
   "cell_type": "code",
   "execution_count": 12,
   "metadata": {
    "collapsed": false,
    "deletable": true,
    "editable": true,
    "scrolled": false
   },
   "outputs": [
    {
     "name": "stdout",
     "output_type": "stream",
     "text": [
      "https://www.theguardian.com/us-news/donaldtrump Donald Trump\n",
      "https://www.theguardian.com/technology/amazon Amazon\n"
     ]
    }
   ],
   "source": [
    "links = soup.find_all('a', attrs={\n",
    "    'data-component': 'auto-linked-tag'\n",
    "})\n",
    "\n",
    "for link in links: \n",
    "    print link['href'], link.text"
   ]
  },
  {
   "cell_type": "markdown",
   "metadata": {
    "deletable": true,
    "editable": true
   },
   "source": [
    "# Chaining queries\n",
    "\n",
    "Now, let us conisder a more general query that might be done on a website such as this. \n",
    "We will query the base technology page, and attempt to list all articles that pertain to this main page"
   ]
  },
  {
   "cell_type": "code",
   "execution_count": 13,
   "metadata": {
    "collapsed": false,
    "deletable": true,
    "editable": true
   },
   "outputs": [],
   "source": [
    "url = 'https://www.theguardian.com/uk/technology'\n",
    "req = requests.get(url)\n",
    "source = req.text\n",
    "soup = BeautifulSoup(source, 'html.parser')"
   ]
  },
  {
   "cell_type": "markdown",
   "metadata": {
    "deletable": true,
    "editable": true
   },
   "source": [
    "After inspecting the DOM (via the `inspect` tool in my browser), I see that the attributes that define \n",
    "a `technology` article are: \n",
    "    \n",
    "    class = \"js-headline-text\""
   ]
  },
  {
   "cell_type": "code",
   "execution_count": 14,
   "metadata": {
    "collapsed": false,
    "deletable": true,
    "editable": true,
    "scrolled": false
   },
   "outputs": [
    {
     "name": "stdout",
     "output_type": "stream",
     "text": [
      "https://www.theguardian.com/technology/2017/jan/31/amazon-expedia-micr Amazon pledges legal\n",
      "https://www.theguardian.com/technology/2017/jan/31/muslim-video-game-d As a Muslim video-ga\n",
      "https://www.theguardian.com/technology/2017/jan/31/horizon-zero-dawn-t Horizon Zero Dawn – \n",
      "https://www.theguardian.com/technology/2017/jan/31/trump-travel-ban-te #DeleteUber: how tec\n",
      "https://www.theguardian.com/business/2017/jan/31/hand-ocado-robot-shop Hand delivered: will\n",
      "https://www.theguardian.com/technology/2017/jan/31/hitman-review-a-bea Hitman review – a be\n",
      "https://www.theguardian.com/technology/2017/jan/31/apple-record-revenu Apple posts record r\n",
      "https://www.theguardian.com/technology/2017/jan/27/mark-zuckerberg-don Mark Zuckerberg chal\n",
      "https://www.theguardian.com/technology/2017/jan/27/ai-artificial-intel AI watchdog needed t\n",
      "https://www.theguardian.com/technology/2017/jan/27/us-russia-hacking-y Alleged hacker held \n",
      "https://www.theguardian.com/technology/askjack/2017/jan/26/what-is-the What is the best way\n",
      "https://www.theguardian.com/technology/askjack/2017/jan/19/how-can-i-t How can I tell if a \n",
      "https://www.theguardian.com/technology/askjack/2017/jan/12/best-cheap- What is the best che\n",
      "https://www.theguardian.com/technology/askjack/2017/jan/05/what-is-the What is the best way\n",
      "https://www.theguardian.com/technology/2017/jan/14/whatsapp-vulnerabil As WhatsApp becomes \n",
      "https://www.theguardian.com/technology/2017/jan/05/facebook-live-socia Facebook Live is cha\n",
      "https://www.theguardian.com/technology/2017/jan/05/telling-facebook-yo Telling Facebook you\n",
      "https://www.theguardian.com/technology/2017/jan/05/can-donald-trump-sa Can Donald Trump sav\n",
      "https://www.theguardian.com/technology/2017/jan/30/libratus-poker-arti Oh the humanity! Pok\n",
      "https://www.theguardian.com/technology/2017/jan/29/uber-app-changed-ho Uber: the app that c\n",
      "https://www.theguardian.com/technology/2017/jan/29/silicon-valley-new- Silicon Valley super\n",
      "https://www.theguardian.com/media/2017/jan/28/how-to-stop-arguing-and- How to stop arguing \n",
      "https://www.theguardian.com/technology/2017/jan/28/apple-app-store-pok Pokémon Go and no si\n",
      "https://www.theguardian.com/technology/2017/jan/30/honor-6x-review-a-l Honor 6X review: a l\n",
      "https://www.theguardian.com/technology/2016/dec/05/oneplus-3t-review-a OnePlus 3T review: t\n",
      "https://www.theguardian.com/technology/2016/sep/15/huawei-honor-8-revi Honor 8 review: Huaw\n",
      "https://www.theguardian.com/technology/2016/oct/27/google-pixel-xl-rev Google Pixel XL revi\n",
      "https://www.theguardian.com/technology/2017/jan/25/apple-airpods-revie AirPods review: the \n",
      "https://www.theguardian.com/technology/2016/dec/20/top-hairdryers-revi Top hairdryers revie\n",
      "https://www.theguardian.com/technology/2016/nov/28/amazon-echo-dot-rev Amazon Echo Dot revi\n",
      "https://www.theguardian.com/technology/2016/nov/21/amazon-echo-review- Amazon Echo review: \n",
      "https://www.theguardian.com/technology/audio/2017/jan/26/how-a-blind-r How a blind runner t\n",
      "https://www.theguardian.com/technology/audio/2017/jan/22/cascade-failu Cascade failure: an \n",
      "https://www.theguardian.com/technology/video/2017/jan/14/first-look-at First look at the Ni\n",
      "https://www.theguardian.com/us-news/2017/jan/29/silicon-valley-trump-t Google and Apple joi\n",
      "https://www.theguardian.com/technology/2017/jan/26/vanishing-point-ris Vanishing point: the\n",
      "https://www.theguardian.com/technology/2017/jan/24/silicon-valley-figh Trump needs tech to \n",
      "https://www.theguardian.com/commentisfree/2017/jan/20/president-trump- We could’ve avoided \n",
      "https://www.theguardian.com/technology/2017/jan/31/club-penguin-the-ki Club Penguin: the ki\n",
      "https://www.theguardian.com/lifeandstyle/2017/jan/30/vikings-on-board- Board games reviews \n",
      "https://www.theguardian.com/film/2017/jan/27/resident-evil-praise-mill In praise of Residen\n",
      "https://www.theguardian.com/technology/2017/jan/27/the-12-greatest-sup The 12 greatest supe\n"
     ]
    }
   ],
   "source": [
    "articles = soup.find_all('a', attrs={\n",
    "    'class': 'js-headline-text'\n",
    "})\n",
    "\n",
    "for article in articles: \n",
    "    print article['href'][:70], article.text[:20]"
   ]
  },
  {
   "cell_type": "markdown",
   "metadata": {
    "deletable": true,
    "editable": true
   },
   "source": [
    "With this set of articles, it is now possible to chain further querying, for example with code \n",
    "similar to the following \n",
    "\n",
    "```python\n",
    "for article in articles: \n",
    "    req = requests.get(article['href'])\n",
    "    source = req.text \n",
    "    soup = BeautifulSoup(source, 'html.parser') \n",
    "    \n",
    "    ... and so on...\n",
    "```\n",
    "\n",
    "However, I won't go into much detail about this now. For scraping like this tools, such as `scrapy` are more \n",
    "appropriate than `BeautifulSoup` since they are designed for multithreadded web crawling. \n",
    "Once again, however, I urge caution and hope that before any crawling is initiated you determine whether \n",
    "crawling is within the terms of use of the website. \n",
    "If in doubt contact the website administrators. \n",
    "\n",
    "https://scrapy.org/"
   ]
  },
  {
   "cell_type": "code",
   "execution_count": null,
   "metadata": {
    "collapsed": true,
    "deletable": true,
    "editable": true
   },
   "outputs": [],
   "source": []
  }
 ],
 "metadata": {
  "kernelspec": {
   "display_name": "Python 2",
   "language": "python",
   "name": "python2"
  },
  "language_info": {
   "codemirror_mode": {
    "name": "ipython",
    "version": 2
   },
   "file_extension": ".py",
   "mimetype": "text/x-python",
   "name": "python",
   "nbconvert_exporter": "python",
   "pygments_lexer": "ipython2",
   "version": "2.7.12"
  }
 },
 "nbformat": 4,
 "nbformat_minor": 2
}
